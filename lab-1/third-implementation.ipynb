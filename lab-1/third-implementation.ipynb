{
 "cells": [
  {
   "cell_type": "code",
   "execution_count": 2,
   "id": "88165000-78e3-4ca1-9468-17f5b677487d",
   "metadata": {
    "pycharm": {
     "name": "#%%\n"
    }
   },
   "outputs": [],
   "source": [
    "import os\n",
    "import time\n",
    "from functools import reduce\n",
    "from collections import Counter\n",
    "from pprint import pprint\n",
    "from numba import jit\n",
    "from concurrent.futures import ThreadPoolExecutor"
   ]
  },
  {
   "cell_type": "code",
   "execution_count": 3,
   "id": "0f383aab",
   "metadata": {
    "pycharm": {
     "name": "#%%\n"
    }
   },
   "outputs": [
    {
     "name": "stdout",
     "output_type": "stream",
     "text": [
      "Fill in the folder name in current directory: documents\n"
     ]
    }
   ],
   "source": [
    "folder_name = input(\"Fill in the folder name in current directory: \")\n",
    "path = os.path.abspath(folder_name)\n",
    "os.chdir(path)"
   ]
  },
  {
   "cell_type": "code",
   "execution_count": 8,
   "id": "b7e25d0c",
   "metadata": {
    "pycharm": {
     "name": "#%%\n"
    }
   },
   "outputs": [],
   "source": [
    "def read_file(file_path):\n",
    "    with open(file_path, 'r') as f:\n",
    "        return f.read()\n",
    "\n",
    "@jit(nogil=True)\n",
    "def hard_computation():\n",
    "    for i in range (1, 10000000):\n",
    "        i += 1\n",
    "\n",
    "@jit(nogil=True)\n",
    "def count_unique_words(str):\n",
    "    hard_computation()\n",
    "    count = {}\n",
    "    for word in str.split('\\n'):\n",
    "       if word in count :\n",
    "          count[word] += 1\n",
    "       else:\n",
    "          count[word] = 1\n",
    "    return count\n",
    "\n",
    "def merge_counters(counter1, counter2):\n",
    "    return Counter(counter1) + Counter(counter2)\n",
    "        "
   ]
  },
  {
   "cell_type": "code",
   "execution_count": 9,
   "id": "afa51232",
   "metadata": {
    "pycharm": {
     "name": "#%%\n"
    }
   },
   "outputs": [
    {
     "name": "stdout",
     "output_type": "stream",
     "text": [
      "Counter({'32': 99604,\n",
      "         '1': 99591,\n",
      "         '98': 99564,\n",
      "         '94': 99535,\n",
      "         '48': 99494,\n",
      "         '11': 99488,\n",
      "         '40': 99438,\n",
      "         '8': 99419,\n",
      "         '39': 99416,\n",
      "         '89': 99415,\n",
      "         '55': 99388,\n",
      "         '16': 99383,\n",
      "         '58': 99369,\n",
      "         '83': 99359,\n",
      "         '3': 99356,\n",
      "         '18': 99336,\n",
      "         '80': 99331,\n",
      "         '61': 99330,\n",
      "         '41': 99321,\n",
      "         '6': 99311,\n",
      "         '30': 99299,\n",
      "         '78': 99298,\n",
      "         '9': 99267,\n",
      "         '23': 99247,\n",
      "         '74': 99246,\n",
      "         '44': 99232,\n",
      "         '95': 99230,\n",
      "         '73': 99215,\n",
      "         '22': 99211,\n",
      "         '72': 99191,\n",
      "         '13': 99184,\n",
      "         '97': 99168,\n",
      "         '57': 99137,\n",
      "         '20': 99117,\n",
      "         '91': 99115,\n",
      "         '71': 99115,\n",
      "         '7': 99113,\n",
      "         '27': 99099,\n",
      "         '60': 99099,\n",
      "         '100': 99094,\n",
      "         '35': 99071,\n",
      "         '17': 99067,\n",
      "         '96': 99057,\n",
      "         '28': 99046,\n",
      "         '62': 99046,\n",
      "         '59': 99046,\n",
      "         '42': 99045,\n",
      "         '33': 99024,\n",
      "         '64': 99007,\n",
      "         '65': 99001,\n",
      "         '24': 99000,\n",
      "         '68': 98993,\n",
      "         '56': 98984,\n",
      "         '45': 98982,\n",
      "         '99': 98965,\n",
      "         '85': 98957,\n",
      "         '52': 98952,\n",
      "         '19': 98948,\n",
      "         '81': 98945,\n",
      "         '14': 98941,\n",
      "         '34': 98934,\n",
      "         '15': 98925,\n",
      "         '49': 98924,\n",
      "         '67': 98918,\n",
      "         '37': 98916,\n",
      "         '51': 98909,\n",
      "         '5': 98899,\n",
      "         '79': 98893,\n",
      "         '10': 98890,\n",
      "         '76': 98882,\n",
      "         '26': 98876,\n",
      "         '12': 98872,\n",
      "         '88': 98866,\n",
      "         '69': 98836,\n",
      "         '53': 98834,\n",
      "         '63': 98807,\n",
      "         '54': 98783,\n",
      "         '2': 98775,\n",
      "         '21': 98763,\n",
      "         '90': 98760,\n",
      "         '47': 98749,\n",
      "         '50': 98732,\n",
      "         '25': 98717,\n",
      "         '43': 98717,\n",
      "         '84': 98706,\n",
      "         '38': 98702,\n",
      "         '77': 98697,\n",
      "         '4': 98695,\n",
      "         '93': 98687,\n",
      "         '29': 98685,\n",
      "         '82': 98671,\n",
      "         '86': 98656,\n",
      "         '0': 98630,\n",
      "         '92': 98628,\n",
      "         '87': 98597,\n",
      "         '46': 98524,\n",
      "         '36': 98459,\n",
      "         '66': 98423,\n",
      "         '70': 98318,\n",
      "         '75': 98287,\n",
      "         '31': 98256})\n",
      "Time elapsed: 2.5072648525238037 sec\n"
     ]
    }
   ],
   "source": [
    "start_time = time.time()\n",
    "# According to this: https://wiki.python.org/moin/GlobalInterpreterLock\n",
    "# potentially blocking or long-running operations, such as I/O\n",
    "# happen outside the GIL, so we don't need to put it inside ThreadPoolExecutor\n",
    "filelist = map(read_file, os.listdir())\n",
    "with ThreadPoolExecutor(6) as executor:\n",
    "    file_word_counters = executor.map(count_unique_words, filelist)\n",
    "total_word_counter = reduce(merge_counters, list(file_word_counters))\n",
    "\n",
    "pprint(total_word_counter)\n",
    "print(\"Time elapsed: %s sec\" % (time.time() - start_time))"
   ]
  },
  {
   "cell_type": "markdown",
   "id": "6d0cdf5a",
   "metadata": {
    "pycharm": {
     "name": "#%%\n"
    }
   },
   "source": [
    "This is Multi-threaded implementation which using _map/reduce_ functionality.\n",
    "\n",
    "We can compare elapsed time in all three implementation and then make a conclusion. \n",
    "\n",
    "***Time elapsed***\n",
    "1. 1.9172611236572266 sec\n",
    "2. 9.725282907485962 sec\n",
    "3. 1.4893684387207031 sec (the winner)\n",
    "\n",
    "Wrapping up, multi-threaded implementation is the fastest. It's event faster then the first one (but not all the time though =), which using better implementation of __count_unique_words__ function and event don't have __hard_computation__ execution inside every iteration.\n",
    "\n",
    "Also, I would like to add, that using __ProcessPoolExecutor__ instead of __ThreadPoolExecutor__ in some cases is even worser, then using a solution without processes allocation. That's because we _spend more time to allocate resources for this processes rather than to compute the task_."
   ]
  }
 ],
 "metadata": {
  "kernelspec": {
   "display_name": "Python 3 (ipykernel)",
   "language": "python",
   "name": "python3"
  },
  "language_info": {
   "codemirror_mode": {
    "name": "ipython",
    "version": 3
   },
   "file_extension": ".py",
   "mimetype": "text/x-python",
   "name": "python",
   "nbconvert_exporter": "python",
   "pygments_lexer": "ipython3",
   "version": "3.9.7"
  }
 },
 "nbformat": 4,
 "nbformat_minor": 5
}
